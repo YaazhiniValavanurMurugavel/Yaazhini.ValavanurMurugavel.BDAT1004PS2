{
 "cells": [
  {
   "cell_type": "code",
   "execution_count": null,
   "id": "29c6fe4a",
   "metadata": {},
   "outputs": [],
   "source": [
    "Question 1"
   ]
  },
  {
   "cell_type": "code",
   "execution_count": 1,
   "id": "f47c2020",
   "metadata": {},
   "outputs": [],
   "source": [
    "a = 0\n",
    "def b():\n",
    " global a\n",
    " a = c(a)\n",
    "def c(a):\n",
    " return a + 2"
   ]
  },
  {
   "cell_type": "code",
   "execution_count": 2,
   "id": "6a79dc76",
   "metadata": {},
   "outputs": [],
   "source": [
    "b() # c(a) is called with a currently being 0 ; c(a) returns 0 + 2 = 2; a = 2."
   ]
  },
  {
   "cell_type": "code",
   "execution_count": 3,
   "id": "fa65810a",
   "metadata": {},
   "outputs": [],
   "source": [
    "b() #c(a) is called with a being 2; c(a) returns 2 + 2 = 4 ; a = 4"
   ]
  },
  {
   "cell_type": "code",
   "execution_count": 4,
   "id": "32e27fe7",
   "metadata": {},
   "outputs": [],
   "source": [
    "b() #c(a) is called with a being 4; c(a) returns 4 + 2 = 6; a = 6"
   ]
  },
  {
   "cell_type": "code",
   "execution_count": 5,
   "id": "098d2d53",
   "metadata": {},
   "outputs": [
    {
     "data": {
      "text/plain": [
       "6"
      ]
     },
     "execution_count": 5,
     "metadata": {},
     "output_type": "execute_result"
    }
   ],
   "source": [
    "a"
   ]
  },
  {
   "cell_type": "code",
   "execution_count": null,
   "id": "e056b70a",
   "metadata": {},
   "outputs": [],
   "source": [
    "Question 2"
   ]
  },
  {
   "cell_type": "code",
   "execution_count": 6,
   "id": "24c8c30e",
   "metadata": {},
   "outputs": [
    {
     "name": "stdout",
     "output_type": "stream",
     "text": [
      "123\n",
      "Sorry File idterm.py is not found.\n"
     ]
    }
   ],
   "source": [
    "def fileLength(filename):\n",
    "    try:\n",
    "        with open(filename, 'r') as content:\n",
    "            \n",
    "            file_content = content.read()\n",
    "            return len(file_content)\n",
    "        \n",
    "    except FileNotFoundError:\n",
    "        return f'Sorry File {filename} is not found.'\n",
    "\n",
    "print(fileLength('/Users/yaazhinimurugavel/Downloads/Filelength (1).txt')) # will print the length of the file \n",
    "\n",
    "print(fileLength('idterm.py'))   # will print 'Sorry File idterm.py is not found.'"
   ]
  },
  {
   "cell_type": "code",
   "execution_count": null,
   "id": "698d23c4",
   "metadata": {},
   "outputs": [],
   "source": [
    "Question 3"
   ]
  },
  {
   "cell_type": "code",
   "execution_count": 3,
   "id": "39b37ac1",
   "metadata": {},
   "outputs": [
    {
     "name": "stdout",
     "output_type": "stream",
     "text": [
      "['doll', 'firetruck', 'kitten']\n"
     ]
    }
   ],
   "source": [
    "class Marsupial:\n",
    "    \n",
    "    def __init__(self):\n",
    "        self.pouch = []\n",
    "        \n",
    "    def put_in_pouch(self, item):\n",
    "        self.pouch.append(item)\n",
    "        \n",
    "    def pouch_contents(self):\n",
    "        return self.pouch\n",
    "\n",
    "\n",
    "m = Marsupial()\n",
    "m.put_in_pouch('doll')\n",
    "m.put_in_pouch('firetruck')\n",
    "m.put_in_pouch('kitten')\n",
    "\n",
    "print(m.pouch_contents()) "
   ]
  },
  {
   "cell_type": "code",
   "execution_count": 11,
   "id": "f22964dd",
   "metadata": {},
   "outputs": [
    {
     "name": "stdout",
     "output_type": "stream",
     "text": [
      "I am a Kangaroo located at coordinates (0,0)\n",
      "['doll', 'firetruck', 'kitten']\n",
      "I am a Kangaroo located at coordinates (3,0)\n"
     ]
    }
   ],
   "source": [
    "class Kangaroo(Marsupial):\n",
    "\n",
    "    def __init__(self, x, y):\n",
    "        super().__init__()\n",
    "        self.x = x\n",
    "        self.y = y\n",
    "\n",
    "    def jump(self, fx, fy):\n",
    "        self.x =self.x+ fx\n",
    "        self.y =self.y+ fy\n",
    "\n",
    "    def __str__(self):\n",
    "        return f'I am a Kangaroo located at coordinates ({self.x},{self.y})'\n",
    "\n",
    "\n",
    "k = Kangaroo(0,0)\n",
    "print(k) \n",
    "k.put_in_pouch('doll')\n",
    "k.put_in_pouch('firetruck')\n",
    "k.put_in_pouch('kitten')\n",
    "print(k.pouch_contents())\n",
    "k.jump(1,0)\n",
    "k.jump(1,0)\n",
    "k.jump(1,0)\n",
    "print(k)"
   ]
  },
  {
   "cell_type": "code",
   "execution_count": null,
   "id": "86c9f240",
   "metadata": {},
   "outputs": [],
   "source": [
    "Question 4"
   ]
  },
  {
   "cell_type": "code",
   "execution_count": 5,
   "id": "feb765fe",
   "metadata": {},
   "outputs": [
    {
     "name": "stdout",
     "output_type": "stream",
     "text": [
      "1\n",
      "10\n",
      "5\n",
      "16\n",
      "8\n",
      "4\n",
      "2\n",
      "1\n"
     ]
    }
   ],
   "source": [
    "def collatz(x):\n",
    "    \n",
    "    print(x)\n",
    "    if x == 1:\n",
    "        return\n",
    "    elif x % 2 == 0:\n",
    "        collatz(x // 2) \n",
    "    else:\n",
    "        collatz(3 * x + 1)\n",
    "        \n",
    "collatz(1)\n",
    "\n",
    "collatz(10)"
   ]
  },
  {
   "cell_type": "code",
   "execution_count": null,
   "id": "0aacf9d5",
   "metadata": {},
   "outputs": [],
   "source": [
    "Question 5"
   ]
  },
  {
   "cell_type": "code",
   "execution_count": 6,
   "id": "ff7dcc34",
   "metadata": {},
   "outputs": [
    {
     "name": "stdout",
     "output_type": "stream",
     "text": [
      "0\n",
      "1\n",
      "11\n",
      "1001\n"
     ]
    }
   ],
   "source": [
    "def binary(n):\n",
    "    if n == 0:\n",
    "        \n",
    "        return '0'\n",
    "    elif n == 1:\n",
    "        \n",
    "        return '1'\n",
    "    else:\n",
    "        return binary(n // 2) + str(n % 2)\n",
    "print(binary(0))  \n",
    "print(binary(1))  \n",
    "print(binary(3)) \n",
    "print(binary(9))"
   ]
  },
  {
   "cell_type": "code",
   "execution_count": null,
   "id": "7cda151c",
   "metadata": {},
   "outputs": [],
   "source": [
    "Question 6"
   ]
  },
  {
   "cell_type": "code",
   "execution_count": 12,
   "id": "d9fe3e9b",
   "metadata": {
    "scrolled": true
   },
   "outputs": [
    {
     "name": "stdout",
     "output_type": "stream",
     "text": [
      "W3C Mission\n",
      " Principles\n"
     ]
    }
   ],
   "source": [
    "from html.parser import HTMLParser\n",
    "\n",
    "class HeadingParser(HTMLParser):\n",
    "\n",
    "\n",
    "    def handle_starttag(self, tag, attributes):\n",
    "        if tag in ['h1', 'h2', 'h3', 'h4', 'h5', 'h6']:\n",
    "            self.heading_level = int(tag[1])\n",
    "\n",
    "    \n",
    "    def handle_data(self, data):\n",
    "        if hasattr(self, 'heading_level'):\n",
    "            indent_spaces = ' ' * (self.heading_level - 1)\n",
    "            print(indent_spaces + data)\n",
    "            del self.heading_level\n",
    "\n",
    "\n",
    "with open('/Users/yaazhinimurugavel/Downloads/w3c (1).html', 'r') as html_file:\n",
    "    html_content = html_file.read()\n",
    "    parser = HeadingParser()\n",
    "    parser.feed(html_content)"
   ]
  },
  {
   "cell_type": "code",
   "execution_count": null,
   "id": "081a51ca",
   "metadata": {},
   "outputs": [],
   "source": [
    "Question 7"
   ]
  },
  {
   "cell_type": "code",
   "execution_count": 9,
   "id": "562e7147",
   "metadata": {},
   "outputs": [
    {
     "name": "stdout",
     "output_type": "stream",
     "text": [
      "http://reed.cs.depaul.edu/lperkovic/csc242/test1.html\n",
      " http://reed.cs.depaul.edu/lperkovic/csc242/test2.html\n",
      "  http://reed.cs.depaul.edu/lperkovic/csc242/test4.html\n",
      " http://reed.cs.depaul.edu/lperkovic/csc242/test3.html\n",
      "  http://reed.cs.depaul.edu/lperkovic/csc242/test4.html\n"
     ]
    }
   ],
   "source": [
    "def webdir(url, depth, indent):\n",
    "    web = {\n",
    "        'http://reed.cs.depaul.edu/lperkovic/csc242/test1.html': [\n",
    "            'http://reed.cs.depaul.edu/lperkovic/csc242/test2.html',\n",
    "            'http://reed.cs.depaul.edu/lperkovic/csc242/test3.html'\n",
    "        ],\n",
    "        'http://reed.cs.depaul.edu/lperkovic/csc242/test2.html': [\n",
    "            'http://reed.cs.depaul.edu/lperkovic/csc242/test4.html'\n",
    "        ],\n",
    "        'http://reed.cs.depaul.edu/lperkovic/csc242/test3.html': [\n",
    "            'http://reed.cs.depaul.edu/lperkovic/csc242/test4.html'\n",
    "        ],\n",
    "        'http://reed.cs.depaul.edu/lperkovic/csc242/test4.html': []\n",
    "    }\n",
    "\n",
    "    if depth < 0:\n",
    "        return\n",
    "    print(' ' * indent + url)\n",
    "    \n",
    "    if url in web:\n",
    "        for linked_url in web[url]:\n",
    "            webdir(linked_url, depth - 1, indent + 1)\n",
    "\n",
    "webdir('http://reed.cs.depaul.edu/lperkovic/csc242/test1.html', 2, 0)\n"
   ]
  },
  {
   "cell_type": "code",
   "execution_count": null,
   "id": "9eba2cff",
   "metadata": {},
   "outputs": [],
   "source": [
    "Question 8"
   ]
  },
  {
   "cell_type": "code",
   "execution_count": 14,
   "id": "9d9b107a",
   "metadata": {},
   "outputs": [
    {
     "name": "stdout",
     "output_type": "stream",
     "text": [
      "a.) (24.8,)a.) (28.4,)a.) (27.9,)a.) (27.6,)a.) (4.2,)a.) (8.3,)a.) (15.7,)a.) (10.4,)a.) (13.6,)a.) (20.7,)a.) (27.7,)a.) (22.2,)\n",
      "b.) ('Mumbai',)b.) ('London',)b.) ('Cairo',)\n",
      "c.) ('Mumbai', 'India', 'Winter', 24.8, 5.9)c.) ('Mumbai', 'India', 'Spring', 28.4, 16.2)c.) ('Mumbai', 'India', 'Summer', 27.9, 1549.4)c.) ('Mumbai', 'India', 'Fall', 27.6, 346)\n",
      "d.) ('Mumbai', 'India', 'Fall', 27.6, 346)d.) ('London', 'United Kingdom', 'Fall', 10.4, 218.5)d.) ('Cairo', 'Egypt', 'Fall', 22.2, 4.5)\n",
      "e.) ('Mumbai', 'India', 'Fall')e.) ('London', 'United Kingdom', 'Winter')e.) ('London', 'United Kingdom', 'Fall')\n",
      "f.) ('Cairo', 'Egypt')f.) ('Mumbai', 'India')\n",
      "g.) (27.6,)\n",
      "h.) ('Fall', 569.0)h.) ('Spring', 192.29999999999998)h.) ('Summer', 1706.5)h.) ('Winter', 230.1)"
     ]
    }
   ],
   "source": [
    "#The table name is referred as 'data'\n",
    "\n",
    "import sqlite3\n",
    "conn = sqlite3.connect('trial.db')\n",
    "conn.execute('''\n",
    "CREATE TABLE IF NOT EXISTS data(city text, \n",
    "                      country text, \n",
    "                      season integer, \n",
    "                      temperature integer,\n",
    "                      rainfall integer);''')\n",
    "conn.commit()\n",
    "my_cur = conn.cursor()\n",
    "conn.execute(\"INSERT INTO data VALUES('Mumbai', 'India', 'Winter', 24.8, 5.9);\")\n",
    "conn.execute(\"INSERT INTO data VALUES('Mumbai', 'India', 'Spring', 28.4, 16.2);\")\n",
    "conn.execute(\"INSERT INTO data VALUES('Mumbai', 'India', 'Summer', 27.9, 1549.4);\")\n",
    "conn.execute(\"INSERT INTO data VALUES('Mumbai', 'India', 'Fall', 27.6, 346.0);\")\n",
    "conn.execute(\"INSERT INTO data VALUES('London', 'United Kingdom', 'Winter', 4.2, 207.7);\")\n",
    "conn.execute(\"INSERT INTO data VALUES('London', 'United Kingdom', 'Spring', 8.3, 169.6 );\")\n",
    "conn.execute(\"INSERT INTO data VALUES('London', 'United Kingdom', 'Summer', 15.7, 157.0);\")\n",
    "conn.execute(\"INSERT INTO data VALUES('London', 'United Kingdom', 'Fall', 10.4, 218.5);\")\n",
    "conn.execute(\"INSERT INTO data VALUES('Cairo', 'Egypt', 'Winter', 13.6, 16.5);\")\n",
    "conn.execute(\"INSERT INTO data VALUES('Cairo', 'Egypt', 'Spring', 20.7, 6.5);\")\n",
    "conn.execute(\"INSERT INTO data VALUES('Cairo', 'Egypt', 'Summer', 27.7, 0.1);\")\n",
    "conn.execute(\"INSERT INTO data VALUES('Cairo', 'Egypt', 'Fall', 22.2, 4.5);\")\n",
    "\n",
    "my_cur.execute(\"SELECT temperature from data\")\n",
    "result =my_cur.fetchall() \n",
    "for a in result:\n",
    "  print(\"a.)\", a, end=\"\")\n",
    "\n",
    "print()\n",
    "my_cur.execute(\"SELECT DISTINCT(city) from data\")\n",
    "result = my_cur.fetchall() \n",
    "for a in result:\n",
    "  print(\"b.)\" , a, end=\"\")\n",
    "\n",
    "print()\n",
    "my_cur.execute(\"SELECT * from data where country = 'India'\")\n",
    "result = my_cur.fetchall()\n",
    "for a in result:\n",
    "  print(\"c.)\" , a, end=\"\")\n",
    "\n",
    "print()\n",
    "my_cur.execute(\"SELECT * from data where season = 'Fall'\")\n",
    "result = my_cur.fetchall()\n",
    "for a in result:\n",
    "  print(\"d.)\", a, end=\"\")\n",
    "\n",
    "print()\n",
    "my_cur.execute(\"SELECT city,country,season from data where rainfall BETWEEN 200 and 400\")\n",
    "result = my_cur.fetchall() \n",
    "for a in result:\n",
    "  print(\"e.)\", a, end=\"\")\n",
    "\n",
    "print()\n",
    "my_cur.execute(\"SELECT city,country from data where (season = 'Fall' and temperature > 20) Order BY temperature ASC \")\n",
    "result = my_cur.fetchall()\n",
    "for a in result:\n",
    "  print(\"f.)\", a, end=\"\")\n",
    "\n",
    "print()\n",
    "my_cur.execute(\"SELECT sum(rainfall) from data where city = 'Cairo'\")\n",
    "result = my_cur.fetchall()\n",
    "for a in result:\n",
    "  print(\"g.)\", a, end=\"\")\n",
    "\n",
    "print()\n",
    "my_cur.execute(\"SELECT season, sum(rainfall) from data group by season\")\n",
    "result = my_cur.fetchall()\n",
    "for a in result:\n",
    "  print('h.)', a , end=\"\")\n",
    "\n",
    "conn.close()"
   ]
  },
  {
   "cell_type": "code",
   "execution_count": null,
   "id": "75243525",
   "metadata": {},
   "outputs": [],
   "source": [
    "Question 9"
   ]
  },
  {
   "cell_type": "code",
   "execution_count": 10,
   "id": "2f25d439",
   "metadata": {},
   "outputs": [
    {
     "name": "stdout",
     "output_type": "stream",
     "text": [
      "a) ['THE', 'QUICK', 'BROWN', 'FOX', 'JUMPS', 'OVER', 'THE', 'LAZY', 'DOG']\n",
      "b) ['the', 'quick', 'brown', 'fox', 'jumps', 'over', 'the', 'lazy', 'dog']\n",
      "c) [3, 5, 5, 3, 5, 4, 3, 4, 3]\n",
      "d) [['THE', 'the', 3], ['QUICK', 'quick', 5], ['BROWN', 'brown', 5], ['FOX', 'fox', 3], ['JUMPS', 'jumps', 5], ['OVER', 'over', 4], ['THE', 'the', 3], ['LAZY', 'lazy', 4], ['DOG', 'dog', 3]]\n",
      "e) ['quick', 'brown', 'jumps', 'over', 'lazy']\n"
     ]
    }
   ],
   "source": [
    "words = ['The', 'quick', 'brown', 'fox', 'jumps', 'over', 'the', 'lazy', 'dog']\n",
    "\n",
    "\n",
    "upper_case = [word.upper() for word in words]\n",
    "\n",
    "\n",
    "lower_case = [word.lower() for word in words]\n",
    "\n",
    "\n",
    "word_lengths = [len(word) for word in words]\n",
    "\n",
    "\n",
    "word_specs = [[word.upper(), word.lower(), len(word)] for word in words]\n",
    "\n",
    "char_of_4_or_more = [word for word in words if len(word) >= 4]\n",
    "\n",
    "print(\"a)\", upper_case)\n",
    "print(\"b)\", lower_case)\n",
    "print(\"c)\", word_lengths)\n",
    "\n",
    "print(\"d)\", word_specs)\n",
    "print(\"e)\", char_of_4_or_more)"
   ]
  },
  {
   "cell_type": "code",
   "execution_count": null,
   "id": "2e84b473",
   "metadata": {},
   "outputs": [],
   "source": []
  }
 ],
 "metadata": {
  "kernelspec": {
   "display_name": "Python 3 (ipykernel)",
   "language": "python",
   "name": "python3"
  },
  "language_info": {
   "codemirror_mode": {
    "name": "ipython",
    "version": 3
   },
   "file_extension": ".py",
   "mimetype": "text/x-python",
   "name": "python",
   "nbconvert_exporter": "python",
   "pygments_lexer": "ipython3",
   "version": "3.11.5"
  }
 },
 "nbformat": 4,
 "nbformat_minor": 5
}
